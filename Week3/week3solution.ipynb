{
 "cells": [
  {
   "cell_type": "code",
   "execution_count": 1,
   "id": "22bd70de",
   "metadata": {},
   "outputs": [],
   "source": [
    "import sqlite3"
   ]
  },
  {
   "cell_type": "code",
   "execution_count": 2,
   "id": "53316281",
   "metadata": {},
   "outputs": [],
   "source": [
    "con=sqlite3.connect('ESM.db')"
   ]
  },
  {
   "cell_type": "code",
   "execution_count": 3,
   "id": "0e27c40f",
   "metadata": {},
   "outputs": [],
   "source": [
    "cur=con.cursor()"
   ]
  },
  {
   "cell_type": "code",
   "execution_count": 4,
   "id": "3664cb22",
   "metadata": {},
   "outputs": [],
   "source": [
    "def create_table():\n",
    "    q=\"create table Employee (eid int PRIMARY KEY, ename text, dept text, basic int, branch text)\"\n",
    "    cur.execute(q)\n",
    "    con.commit()"
   ]
  },
  {
   "cell_type": "code",
   "execution_count": 5,
   "id": "4bf8a8d2",
   "metadata": {},
   "outputs": [],
   "source": [
    "def insert_records_directly():\n",
    "    q=\"insert into Employee values(?,?,?,?,?)\"\n",
    "    l=[(1,'shiv',' Account',5000,'Surat'),(2,'krishna','HR', 5400, 'Mumbai'),(3,'ram','Account', 6000, 'Bangalore'),\n",
    "       (4,'ajay','IT', 6200, 'Delhi'),(5,'shusant','Inventory', 4500, 'Surat')]\n",
    "    cur.executemany(q,l)\n",
    "    con.commit()"
   ]
  },
  {
   "cell_type": "code",
   "execution_count": 6,
   "id": "af16b76d",
   "metadata": {},
   "outputs": [],
   "source": [
    "def insert_records_user():\n",
    "    q=\"insert into Employee values(?,?,?,?,?)\"\n",
    "    l1=[]\n",
    "    for i in range(6,11):\n",
    "        eid=int(input(\"Enter employee id:\"))\n",
    "        ename=input(\"Enter employee name:\")\n",
    "        edept=input(\"Enter employee department:\")\n",
    "        ebasic=int(input(\"Enter employee basic:\"))\n",
    "        ebranch=input(\"Enter employee branch:\")\n",
    "        t=(eid,ename,edept,ebasic,ebranch)\n",
    "        l1.append(t)\n",
    "    cur.executemany(q,l1)\n",
    "    con.commit()"
   ]
  },
  {
   "cell_type": "code",
   "execution_count": 7,
   "id": "feab4758",
   "metadata": {},
   "outputs": [],
   "source": [
    "def update():\n",
    "    q=(\"UPDATE Employee SET basic = basic * 1.1 WHERE branch = 'Surat' \")\n",
    "    cur.execute(q)\n",
    "    con.commit()"
   ]
  },
  {
   "cell_type": "code",
   "execution_count": 8,
   "id": "3a5a91f3",
   "metadata": {},
   "outputs": [],
   "source": [
    "def print_record():\n",
    "    q=(\"select * from Employee\")\n",
    "    cur.execute(q)\n",
    "    r=cur.fetchall()\n",
    "    print(\"ALL Records:\")\n",
    "    for i in range(len(r)):\n",
    "        print(r[i])\n",
    "    con.commit()"
   ]
  },
  {
   "cell_type": "code",
   "execution_count": 9,
   "id": "0eee615c",
   "metadata": {},
   "outputs": [],
   "source": [
    "def print_record_HR_IT():\n",
    "    q=(\"select * from Employee where dept='HR' OR dept='IT'\")\n",
    "    cur.execute(q)\n",
    "    r=cur.fetchall()\n",
    "    print(\"deprtment is HR and IT:\")\n",
    "    for i in range(len(r)):\n",
    "        print(r[i])\n",
    "    con.commit()"
   ]
  },
  {
   "cell_type": "code",
   "execution_count": 10,
   "id": "97c2e91a",
   "metadata": {},
   "outputs": [],
   "source": [
    "def print_record_orderby_dept():\n",
    "    q=(\"select * from Employee ORDER BY dept\")\n",
    "    cur.execute(q)\n",
    "    r=cur.fetchall()\n",
    "    print(\"Record ORDER BY DEPT:\")\n",
    "    for i in range(len(r)):\n",
    "        print(r[i])\n",
    "    con.commit()"
   ]
  },
  {
   "cell_type": "code",
   "execution_count": 11,
   "id": "95353b8e",
   "metadata": {},
   "outputs": [],
   "source": [
    "def print_record_basic():\n",
    "    q=(\"select * from Employee where basic>6000\")\n",
    "    cur.execute(q)\n",
    "    r=cur.fetchall()\n",
    "    print(\"Basic>6000:\")\n",
    "    for i in range(len(r)):\n",
    "        print(r[i])\n",
    "    con.commit()"
   ]
  },
  {
   "cell_type": "code",
   "execution_count": 12,
   "id": "daeb9569",
   "metadata": {},
   "outputs": [],
   "source": [
    "def print_record_ename_seccond_char_r():\n",
    "    q=(\"select * from Employee where ename LIKE '_r%'\")\n",
    "    cur.execute(q)\n",
    "    r=cur.fetchall()\n",
    "    print(\"employee name second char is r:\")\n",
    "    for i in range(len(r)):\n",
    "        print(r[i])\n",
    "    con.commit()"
   ]
  },
  {
   "cell_type": "code",
   "execution_count": 13,
   "id": "42baee28",
   "metadata": {},
   "outputs": [],
   "source": [
    "def grouping():\n",
    "    q=(\"select dept,count(*) from Employee where dept IN('Account','Inventory') GROUP BY dept\")\n",
    "    cur.execute(q)\n",
    "    r=cur.fetchall()\n",
    "    print(\"Grouping:\")\n",
    "    for i in range(len(r)):\n",
    "        print(r[i])\n",
    "    con.commit()"
   ]
  },
  {
   "cell_type": "code",
   "execution_count": 14,
   "id": "7ed60035",
   "metadata": {},
   "outputs": [],
   "source": [
    "def branch_descending():\n",
    "    q=(\"select * from Employee ORDER BY branch\")\n",
    "    cur.execute(q)\n",
    "    r=cur.fetchall()\n",
    "    print(\"branch name in descending order:\")\n",
    "    for i in range(len(r)):\n",
    "        print(r[i])\n",
    "    con.commit()"
   ]
  },
  {
   "cell_type": "code",
   "execution_count": 15,
   "id": "ccd5ccb7",
   "metadata": {},
   "outputs": [],
   "source": [
    "create_table()"
   ]
  },
  {
   "cell_type": "code",
   "execution_count": 16,
   "id": "1f83e2e9",
   "metadata": {},
   "outputs": [],
   "source": [
    "insert_records_directly()"
   ]
  },
  {
   "cell_type": "code",
   "execution_count": 19,
   "id": "d65a766d",
   "metadata": {},
   "outputs": [
    {
     "name": "stdout",
     "output_type": "stream",
     "text": [
      "Enter employee id:6\n",
      "Enter employee name:jenil\n",
      "Enter employee department:HR\n",
      "Enter employee basic:6400\n",
      "Enter employee branch:goa\n",
      "Enter employee id:7\n",
      "Enter employee name:nevin\n",
      "Enter employee department:inventory\n",
      "Enter employee basic:5200\n",
      "Enter employee branch:up\n",
      "Enter employee id:8\n",
      "Enter employee name:kartik\n",
      "Enter employee department:IT\n",
      "Enter employee basic:4800\n",
      "Enter employee branch:odisha\n",
      "Enter employee id:9\n",
      "Enter employee name:lalit\n",
      "Enter employee department:account\n",
      "Enter employee basic:6200\n",
      "Enter employee branch:kamrej\n",
      "Enter employee id:10\n",
      "Enter employee name:yatin\n",
      "Enter employee department:IT\n",
      "Enter employee basic:6900\n",
      "Enter employee branch:pune\n"
     ]
    }
   ],
   "source": [
    "insert_records_user()"
   ]
  },
  {
   "cell_type": "code",
   "execution_count": 20,
   "id": "76cea66e",
   "metadata": {},
   "outputs": [],
   "source": [
    "update()"
   ]
  },
  {
   "cell_type": "code",
   "execution_count": 21,
   "id": "d57de176",
   "metadata": {},
   "outputs": [
    {
     "name": "stdout",
     "output_type": "stream",
     "text": [
      "ALL Records:\n",
      "(1, 'shiv', ' Account', 5500, 'Surat')\n",
      "(2, 'krishna', 'HR', 5400, 'Mumbai')\n",
      "(3, 'ram', 'Account', 6000, 'Bangalore')\n",
      "(4, 'ajay', 'IT', 6200, 'Delhi')\n",
      "(5, 'shusant', 'Inventory', 4950, 'Surat')\n",
      "(6, 'jenil', 'HR', 6400, 'goa')\n",
      "(7, 'nevin', 'inventory', 5200, 'up')\n",
      "(8, 'kartik', 'IT', 4800, 'odisha')\n",
      "(9, 'lalit', 'account', 6200, 'kamrej')\n",
      "(10, 'yatin', 'IT', 6900, 'pune')\n"
     ]
    }
   ],
   "source": [
    "print_record()"
   ]
  },
  {
   "cell_type": "code",
   "execution_count": 22,
   "id": "42981a42",
   "metadata": {},
   "outputs": [
    {
     "name": "stdout",
     "output_type": "stream",
     "text": [
      "deprtment is HR and IT:\n",
      "(2, 'krishna', 'HR', 5400, 'Mumbai')\n",
      "(4, 'ajay', 'IT', 6200, 'Delhi')\n",
      "(6, 'jenil', 'HR', 6400, 'goa')\n",
      "(8, 'kartik', 'IT', 4800, 'odisha')\n",
      "(10, 'yatin', 'IT', 6900, 'pune')\n"
     ]
    }
   ],
   "source": [
    "print_record_HR_IT()"
   ]
  },
  {
   "cell_type": "code",
   "execution_count": 23,
   "id": "a97f3bc3",
   "metadata": {},
   "outputs": [
    {
     "name": "stdout",
     "output_type": "stream",
     "text": [
      "Basic>6000:\n",
      "(4, 'ajay', 'IT', 6200, 'Delhi')\n",
      "(6, 'jenil', 'HR', 6400, 'goa')\n",
      "(9, 'lalit', 'account', 6200, 'kamrej')\n",
      "(10, 'yatin', 'IT', 6900, 'pune')\n"
     ]
    }
   ],
   "source": [
    "print_record_basic()"
   ]
  },
  {
   "cell_type": "code",
   "execution_count": 24,
   "id": "ba4d4548",
   "metadata": {},
   "outputs": [
    {
     "name": "stdout",
     "output_type": "stream",
     "text": [
      "employee name second char is r:\n",
      "(2, 'krishna', 'HR', 5400, 'Mumbai')\n"
     ]
    }
   ],
   "source": [
    "print_record_ename_seccond_char_r()"
   ]
  },
  {
   "cell_type": "code",
   "execution_count": 25,
   "id": "ea9e3a4d",
   "metadata": {},
   "outputs": [
    {
     "name": "stdout",
     "output_type": "stream",
     "text": [
      "Grouping:\n",
      "('Account', 1)\n",
      "('Inventory', 1)\n"
     ]
    }
   ],
   "source": [
    "grouping()"
   ]
  },
  {
   "cell_type": "code",
   "execution_count": 26,
   "id": "ceccaf0d",
   "metadata": {},
   "outputs": [
    {
     "name": "stdout",
     "output_type": "stream",
     "text": [
      "branch name in descending order:\n",
      "(3, 'ram', 'Account', 6000, 'Bangalore')\n",
      "(4, 'ajay', 'IT', 6200, 'Delhi')\n",
      "(2, 'krishna', 'HR', 5400, 'Mumbai')\n",
      "(1, 'shiv', ' Account', 5500, 'Surat')\n",
      "(5, 'shusant', 'Inventory', 4950, 'Surat')\n",
      "(6, 'jenil', 'HR', 6400, 'goa')\n",
      "(9, 'lalit', 'account', 6200, 'kamrej')\n",
      "(8, 'kartik', 'IT', 4800, 'odisha')\n",
      "(10, 'yatin', 'IT', 6900, 'pune')\n",
      "(7, 'nevin', 'inventory', 5200, 'up')\n"
     ]
    }
   ],
   "source": [
    "branch_descending()"
   ]
  },
  {
   "cell_type": "code",
   "execution_count": 27,
   "id": "6de9c418",
   "metadata": {},
   "outputs": [],
   "source": [
    "cur.close()"
   ]
  },
  {
   "cell_type": "code",
   "execution_count": null,
   "id": "2cfce88d",
   "metadata": {},
   "outputs": [],
   "source": []
  }
 ],
 "metadata": {
  "kernelspec": {
   "display_name": "Python 3 (ipykernel)",
   "language": "python",
   "name": "python3"
  },
  "language_info": {
   "codemirror_mode": {
    "name": "ipython",
    "version": 3
   },
   "file_extension": ".py",
   "mimetype": "text/x-python",
   "name": "python",
   "nbconvert_exporter": "python",
   "pygments_lexer": "ipython3",
   "version": "3.11.4"
  }
 },
 "nbformat": 4,
 "nbformat_minor": 5
}
